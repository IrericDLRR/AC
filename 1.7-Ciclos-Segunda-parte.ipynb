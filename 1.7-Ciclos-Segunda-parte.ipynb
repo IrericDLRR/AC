{
 "cells": [
  {
   "cell_type": "markdown",
   "id": "ff922e3a",
   "metadata": {},
   "source": [
    "## Visualización de ciclos con... ¡tortugas!\n",
    "\n",
    "Imaginemos que tenemos una tortuga en el origen de un plano cartesiano que tiene una pluma pegada, la cual puede poner sobre el papel o bien levantar, y que esta tortuga entiende sólo cuatro instrucciones:\n",
    "* camina hacia adelante un número $d$ de unidades de distancia,\n",
    "* gira $\\theta$ grados,\n",
    "* levanta la pluma y\n",
    "* baja la pluma.\n",
    "\n",
    "Si le pedimos que camine hacia adelante mientras tiene la pluma abajo (i.e. sobre el papel), dibujará una línea recta, mientras que, si le pedimos que camine cuando tiene la pluma arriba (i.e. levantada), no dibujará nada. La tortuga tampoco dibujará nada si le pedimos que gire, pues asumiremos que, aún con la pluma abajo, la marca es tan pequeña que no se alcanza a ver. \n",
    "\n",
    "Observa que, con las cuatro instrucciones anteriores (y la cooperación de la tortuga, por supuesto) pordemos dibujar **cualquier figura bidimensional compuesta únicamente por líneas rectas**. En serio, **piénsalo**."
   ]
  },
  {
   "cell_type": "markdown",
   "id": "49fcefb6",
   "metadata": {},
   "source": [
    "### Dibujando líneas con tortugas en Julia\n",
    "\n",
    "Afortunadamente, existe un programa que hace exactamente lo que acabamos de describir. Está incluido dentro de la biblioteca [`ThinkJulia`](https://github.com/BenLauwens/ThinkJulia.jl), creado como recurso didáctico del libro \"Think Julia: How to Think Like a Computer Scientist\" de Ben Lauwens (puedes encontrar la versión en línea del libro [aquí](https://benlauwens.github.io/ThinkJulia.jl/latest/book.html#_turtles)). Instalemos e importemos esta biblioteca:"
   ]
  },
  {
   "cell_type": "code",
   "execution_count": null,
   "id": "ab234297",
   "metadata": {},
   "outputs": [],
   "source": [
    "using Pkg                                                  # Importamos la biblioteca \"Pkg\" para poder instalar \"paquetes\" (blbiotecas);\n",
    " Pkg.add(url=\"https://github.com/BenLauwens/ThinkJulia.jl\") # luego, instalamos la biblioteca \"ThinkJulia\"."
   ]
  },
  {
   "cell_type": "code",
   "execution_count": 62,
   "id": "df201858",
   "metadata": {},
   "outputs": [],
   "source": [
    "using ThinkJulia                                           # Importamos la biblioteca \"ThinkJulia\".\n",
    "\n",
    "#= NOTA: Después de instalar la biblioteca \"ThinkJulia\" localmente en tu computadora, podrás importarla sin tener que\n",
    "volverla a instalar; por ende, recomendamos comentar la celda de código anterior después de la instalación inicial,\n",
    "pues ya no será necesaria =#"
   ]
  },
  {
   "cell_type": "markdown",
   "id": "50a51f41",
   "metadata": {},
   "source": [
    "En la siguiente celda, usamos la función `Turtle` para inicializar nuestra tortuga en el origen del plano cartesiano y luego mostramos un ejemplo con las cuatro instrucciones que podemos darle. Como existe un caracter [`Unicode`](https://es.wikipedia.org/wiki/Unicode) de tortuga que podemos usar para nombrar variables con Julia, lo usaremos para definir a nuestra tortuga, por pura diversión; este caracter se obtiene escribiendo `\\:turtle:` en una celda de código de Julia y auto completando con la tecla `TAB`.\n",
    "\n",
    "Ejecuta la siguiente celda, experimenta cambiando el valor de distancia `d` y comentando alguna o varias líneas del bloque `begin`, y observa cómo cambia el dibujo que haces con la tortuga. ¿Hacia dónde mira la tortuga al inicio? ¿La convención de grados que sigue la tortuga es igual a la convención matemática usual en el plano cartesiano?"
   ]
  },
  {
   "cell_type": "code",
   "execution_count": 88,
   "id": "8ba5955a",
   "metadata": {
    "scrolled": true
   },
   "outputs": [
    {
     "name": "stderr",
     "output_type": "stream",
     "text": [
      "\u001b[32m\u001b[1m   Resolving\u001b[22m\u001b[39m package versions...\n",
      "\u001b[32m\u001b[1m    Updating\u001b[22m\u001b[39m `C:\\Users\\52554\\.julia\\environments\\v1.8\\Project.toml`\n",
      "\u001b[32m⌃\u001b[39m\u001b[90m [ae8d54c2] \u001b[39m\u001b[92m+ Luxor v1.12.0\u001b[39m\n",
      "\u001b[32m\u001b[1m  No Changes\u001b[22m\u001b[39m to `C:\\Users\\52554\\.julia\\environments\\v1.8\\Manifest.toml`\n"
     ]
    }
   ],
   "source": [
    "import Pkg; Pkg.add(\"Luxor\")             #No fue suficiente con la paquetería insatalada anteriormente"
   ]
  },
  {
   "cell_type": "code",
   "execution_count": 1,
   "id": "83c7a066",
   "metadata": {},
   "outputs": [
    {
     "data": {
      "text/plain": [
       "Turtle(0.0, 0.0, true, 0.0, (0.0, 0.0, 0.0))"
      ]
     },
     "execution_count": 1,
     "metadata": {},
     "output_type": "execute_result"
    }
   ],
   "source": [
    "using Luxor        # Así que investigué un poco y terminé instalado esta otra paqutería\n",
    "🐢 = Turtle()     # La cual si me permitió definir la función Turtle (pues solo con lo anterior no me fue posible)"
   ]
  },
  {
   "cell_type": "code",
   "execution_count": 2,
   "id": "5471e088",
   "metadata": {},
   "outputs": [
    {
     "data": {
      "image/svg+xml": [
       "<?xml version=\"1.0\" encoding=\"UTF-8\"?>\n",
       "<svg xmlns=\"http://www.w3.org/2000/svg\" xmlns:xlink=\"http://www.w3.org/1999/xlink\" width=\"600pt\" height=\"600pt\" viewBox=\"0 0 600 600\" version=\"1.1\">\n",
       "<g id=\"surface1\">\n",
       "<rect x=\"0\" y=\"0\" width=\"600\" height=\"600\" style=\"fill:rgb(100%,100%,100%);fill-opacity:1;stroke:none;\"/>\n",
       "<path style=\"fill:none;stroke-width:2;stroke-linecap:butt;stroke-linejoin:miter;stroke:rgb(0%,0%,0%);stroke-opacity:1;stroke-miterlimit:10;\" d=\"M 300 300 L 400 300 \"/>\n",
       "</g>\n",
       "</svg>\n"
      ]
     },
     "metadata": {},
     "output_type": "display_data"
    }
   ],
   "source": [
    "@svg begin\n",
    "    Forward(🐢, 100)       #Esto fue sólo una prube para ver que la tortuga ya hiciera un trazo\n",
    "end"
   ]
  },
  {
   "cell_type": "code",
   "execution_count": 5,
   "id": "ec328876",
   "metadata": {},
   "outputs": [
    {
     "data": {
      "image/svg+xml": [
       "<?xml version=\"1.0\" encoding=\"UTF-8\"?>\n",
       "<svg xmlns=\"http://www.w3.org/2000/svg\" xmlns:xlink=\"http://www.w3.org/1999/xlink\" width=\"600pt\" height=\"600pt\" viewBox=\"0 0 600 600\" version=\"1.1\">\n",
       "<g id=\"surface16\">\n",
       "<rect x=\"0\" y=\"0\" width=\"600\" height=\"600\" style=\"fill:rgb(100%,100%,100%);fill-opacity:1;stroke:none;\"/>\n",
       "<path style=\"fill:none;stroke-width:2;stroke-linecap:butt;stroke-linejoin:miter;stroke:rgb(0%,0%,0%);stroke-opacity:1;stroke-miterlimit:10;\" d=\"M 300 300 L 400 300 \"/>\n",
       "<path style=\"fill:none;stroke-width:2;stroke-linecap:butt;stroke-linejoin:miter;stroke:rgb(0%,0%,0%);stroke-opacity:1;stroke-miterlimit:10;\" d=\"M 500 300 L 600 300 \"/>\n",
       "<path style=\"fill:none;stroke-width:2;stroke-linecap:butt;stroke-linejoin:miter;stroke:rgb(0%,0%,0%);stroke-opacity:1;stroke-miterlimit:10;\" d=\"M 600 300 L 600 400 \"/>\n",
       "</g>\n",
       "</svg>\n"
      ]
     },
     "metadata": {},
     "output_type": "display_data"
    }
   ],
   "source": [
    "🐢 = Turtle()          #Inicializamos nuestra tortuga en el origen del plano.\n",
    "\n",
    "d = 100\n",
    "\n",
    "@svg begin           # '@svg' toma las instrucciones dentro del bloque `begin` y genera un svg con ellas, que Jupyter nos muestra\n",
    "    Forward(🐢,d)\n",
    "    Penup(🐢)\n",
    "    Forward(🐢,d)\n",
    "    Pendown(🐢)\n",
    "    Forward(🐢,d)\n",
    "    Turn(🐢, 90)\n",
    "    Forward(🐢,d)\n",
    "end\n",
    "\n",
    "# A este código le hice pequeñas modificaciones como poner todas las primeras letras del bloque de instrucciones en\n",
    "# mayúsculas, pues anteriormente me decía que no estaba definido.\n",
    "# Y así ya salió el trazo."
   ]
  },
  {
   "cell_type": "markdown",
   "id": "16198369",
   "metadata": {},
   "source": [
    "**Ejercicio** Dibuja una línea punteada con 5 líneas negras de 10 unidades de distancia cada una con 10 unidades de distancia entre ellas. (Sugerencia: copia el código de la celda anterior y modifícalo a tu conveniencia.)"
   ]
  },
  {
   "cell_type": "code",
   "execution_count": 6,
   "id": "ac77acc6",
   "metadata": {},
   "outputs": [
    {
     "data": {
      "image/svg+xml": [
       "<?xml version=\"1.0\" encoding=\"UTF-8\"?>\n",
       "<svg xmlns=\"http://www.w3.org/2000/svg\" xmlns:xlink=\"http://www.w3.org/1999/xlink\" width=\"600pt\" height=\"600pt\" viewBox=\"0 0 600 600\" version=\"1.1\">\n",
       "<g id=\"surface21\">\n",
       "<rect x=\"0\" y=\"0\" width=\"600\" height=\"600\" style=\"fill:rgb(100%,100%,100%);fill-opacity:1;stroke:none;\"/>\n",
       "<path style=\"fill:none;stroke-width:2;stroke-linecap:butt;stroke-linejoin:miter;stroke:rgb(0%,0%,0%);stroke-opacity:1;stroke-miterlimit:10;\" d=\"M 300 300 L 310 300 \"/>\n",
       "<path style=\"fill:none;stroke-width:2;stroke-linecap:butt;stroke-linejoin:miter;stroke:rgb(0%,0%,0%);stroke-opacity:1;stroke-miterlimit:10;\" d=\"M 320 300 L 330 300 \"/>\n",
       "<path style=\"fill:none;stroke-width:2;stroke-linecap:butt;stroke-linejoin:miter;stroke:rgb(0%,0%,0%);stroke-opacity:1;stroke-miterlimit:10;\" d=\"M 340 300 L 350 300 \"/>\n",
       "<path style=\"fill:none;stroke-width:2;stroke-linecap:butt;stroke-linejoin:miter;stroke:rgb(0%,0%,0%);stroke-opacity:1;stroke-miterlimit:10;\" d=\"M 360 300 L 370 300 \"/>\n",
       "<path style=\"fill:none;stroke-width:2;stroke-linecap:butt;stroke-linejoin:miter;stroke:rgb(0%,0%,0%);stroke-opacity:1;stroke-miterlimit:10;\" d=\"M 380 300 L 390 300 \"/>\n",
       "</g>\n",
       "</svg>\n"
      ]
     },
     "metadata": {},
     "output_type": "display_data"
    }
   ],
   "source": [
    "# Tu código comentado va aquí :D\n",
    "\n",
    "🐢 = Turtle()          #Inicializamos nuestra tortuga en el origen del plano.\n",
    "\n",
    "d = 10                 # Modificamos longitud de línea  \n",
    "\n",
    "@svg begin            # '@svg' toma las instrucciones dentro del bloque `begin` y genera un svg con ellas, que Jupyter nos muestra\n",
    "   \n",
    "    Pendown(🐢)\n",
    "    Forward(🐢,d)\n",
    "    Penup(🐢)\n",
    "    Forward(🐢,d)\n",
    "    \n",
    "    Pendown(🐢)\n",
    "    Forward(🐢,d)\n",
    "    Penup(🐢)\n",
    "    Forward(🐢,d)\n",
    "    \n",
    "    Pendown(🐢)\n",
    "    Forward(🐢,d)\n",
    "    Penup(🐢)\n",
    "    Forward(🐢,d)\n",
    "    \n",
    "    Pendown(🐢)\n",
    "    Forward(🐢,d)\n",
    "    Penup(🐢)\n",
    "    Forward(🐢,d)\n",
    "    \n",
    "    Pendown(🐢)\n",
    "    Forward(🐢,d) \n",
    "end"
   ]
  },
  {
   "cell_type": "markdown",
   "id": "0740193f",
   "metadata": {},
   "source": [
    "**Ejercicio** Si no utilizaste un ciclo para resolver el ejercicio anterior, reescribe tu programa utilizando un ciclo `for` o `while`."
   ]
  },
  {
   "cell_type": "code",
   "execution_count": 7,
   "id": "364b1176",
   "metadata": {},
   "outputs": [
    {
     "data": {
      "image/svg+xml": [
       "<?xml version=\"1.0\" encoding=\"UTF-8\"?>\n",
       "<svg xmlns=\"http://www.w3.org/2000/svg\" xmlns:xlink=\"http://www.w3.org/1999/xlink\" width=\"600pt\" height=\"600pt\" viewBox=\"0 0 600 600\" version=\"1.1\">\n",
       "<g id=\"surface26\">\n",
       "<rect x=\"0\" y=\"0\" width=\"600\" height=\"600\" style=\"fill:rgb(100%,100%,100%);fill-opacity:1;stroke:none;\"/>\n",
       "<path style=\"fill:none;stroke-width:2;stroke-linecap:butt;stroke-linejoin:miter;stroke:rgb(0%,0%,0%);stroke-opacity:1;stroke-miterlimit:10;\" d=\"M 300 300 L 310 300 \"/>\n",
       "<path style=\"fill:none;stroke-width:2;stroke-linecap:butt;stroke-linejoin:miter;stroke:rgb(0%,0%,0%);stroke-opacity:1;stroke-miterlimit:10;\" d=\"M 320 300 L 330 300 \"/>\n",
       "<path style=\"fill:none;stroke-width:2;stroke-linecap:butt;stroke-linejoin:miter;stroke:rgb(0%,0%,0%);stroke-opacity:1;stroke-miterlimit:10;\" d=\"M 340 300 L 350 300 \"/>\n",
       "<path style=\"fill:none;stroke-width:2;stroke-linecap:butt;stroke-linejoin:miter;stroke:rgb(0%,0%,0%);stroke-opacity:1;stroke-miterlimit:10;\" d=\"M 360 300 L 370 300 \"/>\n",
       "<path style=\"fill:none;stroke-width:2;stroke-linecap:butt;stroke-linejoin:miter;stroke:rgb(0%,0%,0%);stroke-opacity:1;stroke-miterlimit:10;\" d=\"M 380 300 L 390 300 \"/>\n",
       "</g>\n",
       "</svg>\n"
      ]
     },
     "metadata": {},
     "output_type": "display_data"
    }
   ],
   "source": [
    "# Tu código comentado va aquí :D\n",
    "\n",
    "🐢 = Turtle()          #Inicializamos nuestra tortuga en el origen del plano.\n",
    "\n",
    "d = 10                 # Mantenemos la última modificación de longitud de línea\n",
    "\n",
    "@svg begin             # '@svg' toma las instrucciones dentro del bloque `begin` y genera un svg con ellas, \n",
    "                       # que Jupyter nos muestra\n",
    "    \n",
    "    for n in 1:5       # Iniciamos ciclo indicando que se repita 5 veces\n",
    "    Pendown(🐢)\n",
    "    Forward(🐢,d)\n",
    "    Penup(🐢)         #Para este ejercicio, en el último ciclo estas dos últimas líneas no son relevantes. \n",
    "    Forward(🐢,d)\n",
    "    end\n",
    "end"
   ]
  },
  {
   "cell_type": "markdown",
   "id": "e5762d8e",
   "metadata": {},
   "source": [
    "**Ejercicio** Haz un programa que tome tres parámetros `n`, `d1` y `d2` (los cuales puedes definir como variables en la misma celda) y dibuje `n` líneas de longitud `d1` con una distancia de separación `d2` entre ellas utilizando un ciclo `for` o `while`."
   ]
  },
  {
   "cell_type": "code",
   "execution_count": 8,
   "id": "596497c3",
   "metadata": {},
   "outputs": [
    {
     "data": {
      "image/svg+xml": [
       "<?xml version=\"1.0\" encoding=\"UTF-8\"?>\n",
       "<svg xmlns=\"http://www.w3.org/2000/svg\" xmlns:xlink=\"http://www.w3.org/1999/xlink\" width=\"600pt\" height=\"600pt\" viewBox=\"0 0 600 600\" version=\"1.1\">\n",
       "<g id=\"surface31\">\n",
       "<rect x=\"0\" y=\"0\" width=\"600\" height=\"600\" style=\"fill:rgb(100%,100%,100%);fill-opacity:1;stroke:none;\"/>\n",
       "<path style=\"fill:none;stroke-width:2;stroke-linecap:butt;stroke-linejoin:miter;stroke:rgb(0%,0%,0%);stroke-opacity:1;stroke-miterlimit:10;\" d=\"M 300 300 L 330 300 \"/>\n",
       "<path style=\"fill:none;stroke-width:2;stroke-linecap:butt;stroke-linejoin:miter;stroke:rgb(0%,0%,0%);stroke-opacity:1;stroke-miterlimit:10;\" d=\"M 335 300 L 365 300 \"/>\n",
       "<path style=\"fill:none;stroke-width:2;stroke-linecap:butt;stroke-linejoin:miter;stroke:rgb(0%,0%,0%);stroke-opacity:1;stroke-miterlimit:10;\" d=\"M 370 300 L 400 300 \"/>\n",
       "<path style=\"fill:none;stroke-width:2;stroke-linecap:butt;stroke-linejoin:miter;stroke:rgb(0%,0%,0%);stroke-opacity:1;stroke-miterlimit:10;\" d=\"M 405 300 L 435 300 \"/>\n",
       "<path style=\"fill:none;stroke-width:2;stroke-linecap:butt;stroke-linejoin:miter;stroke:rgb(0%,0%,0%);stroke-opacity:1;stroke-miterlimit:10;\" d=\"M 440 300 L 470 300 \"/>\n",
       "<path style=\"fill:none;stroke-width:2;stroke-linecap:butt;stroke-linejoin:miter;stroke:rgb(0%,0%,0%);stroke-opacity:1;stroke-miterlimit:10;\" d=\"M 475 300 L 505 300 \"/>\n",
       "</g>\n",
       "</svg>\n"
      ]
     },
     "metadata": {},
     "output_type": "display_data"
    }
   ],
   "source": [
    "# Tu código comentado va aquí :D\n",
    "\n",
    "function Línea(t, d1, d2)       # Tenemos nuestra función con los parámetros que tomaremos en cuenta\n",
    "   \n",
    "    for n in 1:6                # Este for nos ayuda a modificar el número de líneas a dibujar\n",
    "        Pendown(t)              # bloque de instrucciones a repetir\n",
    "        Forward(t,d1)\n",
    "        Penup(t)\n",
    "        Forward(t,d2)\n",
    "    end                         # Fin del ciclo\n",
    "end                             # Fin de la función \n",
    "🐢 = Turtle()                  # Iniciamos nuestra tortuga\n",
    "@svg begin                     # Iniciamos el ciclo indicando los valores de nuestros parámetros indicados al inicio\n",
    "    Línea(🐢, 30, 5)          # donde d1=30(longitud de línea) y d2=5(longitud del espacio).\n",
    "end                            # Finalmente se cierra el ciclo\n",
    "\n",
    "#Nota: Tanto la n(número de líneas) como la d1 y d2 son modificables."
   ]
  },
  {
   "cell_type": "markdown",
   "id": "b2462d2d",
   "metadata": {},
   "source": [
    "**Ejercicio** Haz un programa que dibuje un triángulo equilátero de lado `d`."
   ]
  },
  {
   "cell_type": "code",
   "execution_count": 9,
   "id": "297ea71a",
   "metadata": {},
   "outputs": [
    {
     "data": {
      "image/svg+xml": [
       "<?xml version=\"1.0\" encoding=\"UTF-8\"?>\n",
       "<svg xmlns=\"http://www.w3.org/2000/svg\" xmlns:xlink=\"http://www.w3.org/1999/xlink\" width=\"600pt\" height=\"600pt\" viewBox=\"0 0 600 600\" version=\"1.1\">\n",
       "<g id=\"surface36\">\n",
       "<rect x=\"0\" y=\"0\" width=\"600\" height=\"600\" style=\"fill:rgb(100%,100%,100%);fill-opacity:1;stroke:none;\"/>\n",
       "<path style=\"fill:none;stroke-width:2;stroke-linecap:butt;stroke-linejoin:miter;stroke:rgb(0%,0%,0%);stroke-opacity:1;stroke-miterlimit:10;\" d=\"M 300 300 L 500 300 \"/>\n",
       "<path style=\"fill:none;stroke-width:2;stroke-linecap:butt;stroke-linejoin:miter;stroke:rgb(0%,0%,0%);stroke-opacity:1;stroke-miterlimit:10;\" d=\"M 500 300 L 400 126.792969 \"/>\n",
       "<path style=\"fill:none;stroke-width:2;stroke-linecap:butt;stroke-linejoin:miter;stroke:rgb(0%,0%,0%);stroke-opacity:1;stroke-miterlimit:10;\" d=\"M 400 126.792969 L 300 300 \"/>\n",
       "</g>\n",
       "</svg>\n"
      ]
     },
     "metadata": {},
     "output_type": "display_data"
    }
   ],
   "source": [
    "# Tu código comentado va aquí :D\n",
    "\n",
    "function Triangulo(d, long)        # Como en el ejercicio anterior iniciamos eligiendo parámetros a tomar en cuenta\n",
    "    for n in 1:3                   # Iniciamos ciclo for \n",
    "        Forward(d, long)           # Instrucciones de bloque\n",
    "        Turn(d, -120)              # Al pedir un triangulo equilatero, sabemos que sus ángulos internos deben medir 60°, \n",
    "    end                            # pero en este caso se toman en cuenta los pangulos externos; por eso es 120°\n",
    "end                                # Fin de ciclo for y función\n",
    "🐢 = Turtle()                     # Iniciamos nuestra tortuga\n",
    "@svg begin                         # Iniciamos el ciclo \n",
    "    Triangulo(🐢, 200)            # Indicamos los valores de nuestros parámetros indicados al inicio\n",
    "end                               # Fin del ciclo"
   ]
  },
  {
   "cell_type": "markdown",
   "id": "f852f46e",
   "metadata": {},
   "source": [
    "**Ejercicio** Generaliza el programa anterior a uno que tome dos parámetros `n` y `d` y dibuje un polígono regular de `n` lados de longitud `d` utilizando un ciclo `for` o `while`."
   ]
  },
  {
   "cell_type": "code",
   "execution_count": 10,
   "id": "ca6fe61a",
   "metadata": {},
   "outputs": [
    {
     "data": {
      "image/svg+xml": [
       "<?xml version=\"1.0\" encoding=\"UTF-8\"?>\n",
       "<svg xmlns=\"http://www.w3.org/2000/svg\" xmlns:xlink=\"http://www.w3.org/1999/xlink\" width=\"600pt\" height=\"600pt\" viewBox=\"0 0 600 600\" version=\"1.1\">\n",
       "<g id=\"surface41\">\n",
       "<rect x=\"0\" y=\"0\" width=\"600\" height=\"600\" style=\"fill:rgb(100%,100%,100%);fill-opacity:1;stroke:none;\"/>\n",
       "<path style=\"fill:none;stroke-width:2;stroke-linecap:butt;stroke-linejoin:miter;stroke:rgb(0%,0%,0%);stroke-opacity:1;stroke-miterlimit:10;\" d=\"M 300 300 L 375 300 \"/>\n",
       "<path style=\"fill:none;stroke-width:2;stroke-linecap:butt;stroke-linejoin:miter;stroke:rgb(0%,0%,0%);stroke-opacity:1;stroke-miterlimit:10;\" d=\"M 375 300 L 439.953125 262.5 \"/>\n",
       "<path style=\"fill:none;stroke-width:2;stroke-linecap:butt;stroke-linejoin:miter;stroke:rgb(0%,0%,0%);stroke-opacity:1;stroke-miterlimit:10;\" d=\"M 439.953125 262.5 L 477.453125 197.546875 \"/>\n",
       "<path style=\"fill:none;stroke-width:2;stroke-linecap:butt;stroke-linejoin:miter;stroke:rgb(0%,0%,0%);stroke-opacity:1;stroke-miterlimit:10;\" d=\"M 477.453125 197.546875 L 477.453125 122.546875 \"/>\n",
       "<path style=\"fill:none;stroke-width:2;stroke-linecap:butt;stroke-linejoin:miter;stroke:rgb(0%,0%,0%);stroke-opacity:1;stroke-miterlimit:10;\" d=\"M 477.453125 122.546875 L 439.953125 57.597656 \"/>\n",
       "<path style=\"fill:none;stroke-width:2;stroke-linecap:butt;stroke-linejoin:miter;stroke:rgb(0%,0%,0%);stroke-opacity:1;stroke-miterlimit:10;\" d=\"M 439.953125 57.597656 L 375 20.097656 \"/>\n",
       "<path style=\"fill:none;stroke-width:2;stroke-linecap:butt;stroke-linejoin:miter;stroke:rgb(0%,0%,0%);stroke-opacity:1;stroke-miterlimit:10;\" d=\"M 375 20.097656 L 300 20.097656 \"/>\n",
       "<path style=\"fill:none;stroke-width:2;stroke-linecap:butt;stroke-linejoin:miter;stroke:rgb(0%,0%,0%);stroke-opacity:1;stroke-miterlimit:10;\" d=\"M 300 20.097656 L 235.046875 57.597656 \"/>\n",
       "<path style=\"fill:none;stroke-width:2;stroke-linecap:butt;stroke-linejoin:miter;stroke:rgb(0%,0%,0%);stroke-opacity:1;stroke-miterlimit:10;\" d=\"M 235.046875 57.597656 L 197.546875 122.546875 \"/>\n",
       "<path style=\"fill:none;stroke-width:2;stroke-linecap:butt;stroke-linejoin:miter;stroke:rgb(0%,0%,0%);stroke-opacity:1;stroke-miterlimit:10;\" d=\"M 197.546875 122.546875 L 197.546875 197.546875 \"/>\n",
       "<path style=\"fill:none;stroke-width:2;stroke-linecap:butt;stroke-linejoin:miter;stroke:rgb(0%,0%,0%);stroke-opacity:1;stroke-miterlimit:10;\" d=\"M 197.546875 197.546875 L 235.046875 262.5 \"/>\n",
       "<path style=\"fill:none;stroke-width:2;stroke-linecap:butt;stroke-linejoin:miter;stroke:rgb(0%,0%,0%);stroke-opacity:1;stroke-miterlimit:10;\" d=\"M 235.046875 262.5 L 300 300 \"/>\n",
       "</g>\n",
       "</svg>\n"
      ]
     },
     "metadata": {},
     "output_type": "display_data"
    }
   ],
   "source": [
    "# Tu código comentado va aquí :D\n",
    "\n",
    "function Poligono(t, n, d)     # Inicia función indicando parámetros\n",
    "    angulo = 360 / n           # En este caso la variable será el número de lados, por lo que de eso depende el ángulo a girar \n",
    "    for n in 1:n               # Se inicia el ciclo for\n",
    "        Forward(t, d)          # Bloque de instrucciones\n",
    "        Turn(t, -angulo)\n",
    "    end                        # Fin del ciclo\n",
    "end\n",
    "🐢 = Turtle()                 # Se inicia la tortuga\n",
    "@svg begin\n",
    "    Poligono(🐢, 12, 75)      # Se le dan valores a los parámetros \n",
    "end"
   ]
  }
 ],
 "metadata": {
  "kernelspec": {
   "display_name": "Julia 1.8.5",
   "language": "julia",
   "name": "julia-1.8"
  },
  "language_info": {
   "file_extension": ".jl",
   "mimetype": "application/julia",
   "name": "julia",
   "version": "1.8.5"
  }
 },
 "nbformat": 4,
 "nbformat_minor": 5
}
