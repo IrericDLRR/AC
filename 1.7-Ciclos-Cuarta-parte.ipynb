{
 "cells": [
  {
   "cell_type": "markdown",
   "id": "e038907a",
   "metadata": {},
   "source": [
    "**Ejercicio** Crea un fractal con un ciclo recursivo."
   ]
  },
  {
   "cell_type": "code",
   "execution_count": 2,
   "id": "2d7d071a",
   "metadata": {},
   "outputs": [
    {
     "ename": "LoadError",
     "evalue": "UndefVarError: Turtle not defined",
     "output_type": "error",
     "traceback": [
      "UndefVarError: Turtle not defined",
      "",
      "Stacktrace:",
      " [1] top-level scope",
      "   @ In[2]:19"
     ]
    }
   ],
   "source": [
    "# Tu código comentado va aquí :D\n",
    "\n",
    "function libre(tort,dist)\n",
    "    if dist <= 15\n",
    "        return\n",
    "    else\n",
    "        for i in 1:70\n",
    "            Forward(tort,dist)\n",
    "            Penup(tort)\n",
    "            Forward(tort,dist)\n",
    "            Pendown(tort)\n",
    "            Turn(tort,40)\n",
    "            libre(tort,dist/2)\n",
    "            Turn(tort,160)\n",
    "        end\n",
    "    end\n",
    "end\n",
    "\n",
    "🐢 = Turtle() #Inicializamos nuestra tortuga en el origen del plano.\n",
    "\n",
    "d = 60\n",
    "\n",
    "@svg libre(🐢,d) "
   ]
  }
 ],
 "metadata": {
  "kernelspec": {
   "display_name": "Julia 1.8.5",
   "language": "julia",
   "name": "julia-1.8"
  },
  "language_info": {
   "file_extension": ".jl",
   "mimetype": "application/julia",
   "name": "julia",
   "version": "1.8.5"
  }
 },
 "nbformat": 4,
 "nbformat_minor": 5
}
